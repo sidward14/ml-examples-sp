{
 "cells": [
  {
   "cell_type": "code",
   "execution_count": null,
   "metadata": {},
   "outputs": [],
   "source": [
    "data = np.concatenate( [ dfs[ _kex ].iloc[:,5:].values[:num_rows] for _kex in KEX ], axis = 1 )\n"
   ]
  },
  {
   "cell_type": "markdown",
   "metadata": {},
   "source": [
    "### PCA"
   ]
  },
  {
   "cell_type": "code",
   "execution_count": null,
   "metadata": {},
   "outputs": [],
   "source": [
    "_tmp = np.mean( data, axis = 1 )\n",
    "\n",
    "np.std( data, axis = 1 ) - \\\n",
    "np.sqrt( np.sum( ( data - _tmp[:, np.newaxis] )**2, axis = 1 ) / ( data.shape[1] ) )"
   ]
  },
  {
   "cell_type": "code",
   "execution_count": null,
   "metadata": {},
   "outputs": [],
   "source": [
    "# === PCA\n",
    "\n",
    "def standardize( data: np.ndarray, mean: np.ndarray, std: np.ndarray ):\n",
    "  assert ( ( data.ndim == 2 ) and ( mean.ndim == 1 ) and ( std.ndim == 1 ) )\n",
    "  assert ( data.shape[0] == mean.shape[0] )\n",
    "  assert ( data.shape[0] == std.shape[0] )\n",
    "  \n",
    "  return ( data - mean[:, np.newaxis] ) / std[:, np.newaxis]\n",
    "\n",
    "\n",
    "def compute_cov( data_stand: np.ndarray ):\n",
    "  assert ( data_stand.ndim == 2 )\n",
    "  assert np.all( ( -.0001 < np.mean( data_stand, axis = 1 ) ) & ( np.mean( data_stand, axis = 1 ) < .0001 ) )\n",
    "  assert np.all( ( .9999 < np.std( data_stand, axis = 1 ) ) & ( np.std( data_stand, axis = 1 ) < 1.0001 ) )\n",
    "\n",
    "  N = data_stand.shape[1]\n",
    "  n_feat = data_stand.shape[0]\n",
    "  cov = ( data_stand @ data_stand.T ) / N\n",
    "  \n",
    "  assert ( cov.shape == ( n_feat, n_feat, ) )\n",
    "  \n",
    "  return cov\n",
    "\n",
    "# ------------------- #\n",
    "\n",
    "mean = np.mean( data, axis = 1 )\n",
    "std = np.std( data, axis = 1 )\n",
    "\n",
    "data_stand = standardize( data, mean, std )\n",
    "cov = compute_cov( data_stand )\n",
    "\n",
    "# lda, pcomps = np.linalg.eig( cov )\n",
    "lda, pcomps = eig_scipy( cov )"
   ]
  },
  {
   "cell_type": "code",
   "execution_count": null,
   "metadata": {},
   "outputs": [],
   "source": [
    "np.fabs( np.imag( lda ) ).max()"
   ]
  },
  {
   "cell_type": "code",
   "execution_count": null,
   "metadata": {},
   "outputs": [],
   "source": [
    "lda_argdesc = np.argsort( np.absolute( lda ) )[::-1]\n",
    "\n",
    "lda_ord = np.absolute( lda[ lda_argdesc ] )\n",
    "exp_var = lda_ord / np.sum( lda_ord )\n",
    "\n",
    "np.set_printoptions( suppress = True )\n",
    "print( np.sum( lda_ord ) )\n",
    "print( lda_ord[:40] )\n",
    "print( np.sum( exp_var ) )\n",
    "print( exp_var[:40] )\n",
    "print( ((lda_ord[0]+lda_ord[1])/np.sum( lda_ord ))**.5 )\n",
    "np.set_printoptions( suppress = False )\n",
    "print()\n",
    "print( np.sum( lda_ord ) )\n",
    "print( lda_ord[:40] )\n",
    "print( np.sum( exp_var ) )\n",
    "print( exp_var[:40] )\n",
    "print( ((lda_ord[0]+lda_ord[1])/np.sum( lda_ord ))**.5 )"
   ]
  },
  {
   "cell_type": "code",
   "execution_count": null,
   "metadata": {},
   "outputs": [],
   "source": [
    "np.fabs( np.imag( pcomps[ lda_argdesc ] )[:,:38] ).max(), np.fabs( np.imag( pcomps[ lda_argdesc ] )[:,:39] ).max()"
   ]
  },
  {
   "cell_type": "code",
   "execution_count": null,
   "metadata": {},
   "outputs": [],
   "source": [
    "pcomps_ord = np.absolute( pcomps[ :, lda_argdesc ] )\n",
    "\n",
    "# All of the principal components need to have magnitude 1 else the projection won't make sense\n",
    "assert ( ( .9999 < np.all( np.sqrt( np.sum( pcomps_ord**2, axis = 0 ) ) ) ) & \\\n",
    "         ( np.all( np.sqrt( np.sum( pcomps_ord**2, axis = 0 ) < 1.0001 ) ) ) )\n",
    "\n",
    "np.sqrt( np.sum( pcomps_ord**2, axis = 0 ) )"
   ]
  },
  {
   "cell_type": "code",
   "execution_count": null,
   "metadata": {},
   "outputs": [],
   "source": [
    "lda_ord.shape, exp_var.shape, pcomps_ord.shape, data.shape, data_stand.shape"
   ]
  },
  {
   "cell_type": "markdown",
   "metadata": {},
   "source": [
    "### K-means Clustering"
   ]
  },
  {
   "cell_type": "code",
   "execution_count": null,
   "metadata": {},
   "outputs": [],
   "source": [
    "K = data_stand.shape[1]\n",
    "NDIMS_KMEANS = 2"
   ]
  },
  {
   "cell_type": "code",
   "execution_count": null,
   "metadata": {},
   "outputs": [],
   "source": [
    "proj_data = [ pcomps_ord.T @ data_stand[:,i*num_cols:(i+1)*num_cols] for i in range( len( KEX ) ) ]\n",
    "proj_data_red = [ _proj_data[ :NDIMS_KMEANS, : ] for _proj_data in proj_data ]\n",
    "\n",
    "proj_data[0].shape, proj_data_red[0].shape, lda_ord[ :NDIMS_KMEANS ], exp_var[ :NDIMS_KMEANS ]"
   ]
  },
  {
   "cell_type": "code",
   "execution_count": null,
   "metadata": {},
   "outputs": [],
   "source": [
    "np.sqrt(np.sum(data_stand**2, axis = 0))"
   ]
  },
  {
   "cell_type": "code",
   "execution_count": null,
   "metadata": {},
   "outputs": [],
   "source": [
    "proj_data_red"
   ]
  },
  {
   "cell_type": "code",
   "execution_count": null,
   "metadata": {},
   "outputs": [],
   "source": [
    "fig, ax = plt.subplots( 1, 1, figsize = ( 16, 10,) )\n",
    "\n",
    "for i in range( len( KEX) ):\n",
    "  ax.scatter( proj_data_red[i][ 0, :], proj_data_red[i][ 1, : ], label = KEX[i] )\n",
    "\n",
    "ax.set_title( 'Ground Truth Cluster Plot (post-PCA to 2 Dimensions)' )\n",
    "ax.set_xlabel( 'Principal Component 1' )\n",
    "ax.set_ylabel( 'Principal Component 2' )\n",
    "ax.legend()\n",
    "\n",
    "fig.tight_layout()\n",
    "\n",
    "fig.savefig( '../figures/ground-truth_cluster-plot_5mer.png' )"
   ]
  },
  {
   "cell_type": "code",
   "execution_count": null,
   "metadata": {},
   "outputs": [],
   "source": [
    "# ==== K-MEANS CLUSTERING\n",
    "\n",
    "final_means = np.stack( [ np.array( [ np.inf, np.inf ] ) for _ in range( len( KEX ) ) ], axis = 1 )\n",
    "var = np.ones( ( len( KEX ), ), dtype = np.float64 ) * np.inf\n",
    "final_all_classes = None\n",
    "num_replace = 0\n",
    "for _ in range( 10000 ):\n",
    "  means = \\\n",
    "    np.random.rand( 2, len( KEX ) ) * \\\n",
    "    ( np.array( [ proj_data_red[i].max() - proj_data_red[i].min() for i in range( 2 ) ],\n",
    "               dtype = np.float64 )[ :, np.newaxis ] ) + \\\n",
    "    ( np.array( [ proj_data_red[i].min() for i in range( 2 ) ], dtype = np.float64 )[ :, np.newaxis ] )\n",
    "#   print( means_prev )\n",
    "  proj_data_red_arr = np.concatenate( proj_data_red, axis = 1 )\n",
    "  \n",
    "  means_prev = np.stack( [ np.array( [ -np.inf, -np.inf ] ) for _ in range( len( KEX ) ) ], axis = 1 )\n",
    "  while any( [ ( mp[0] != m[0] or mp[1] != m[1] ) for mp, m in zip( means_prev, means ) ] ):\n",
    "    closest_class = np.fabs( np.sum( ( proj_data_red_arr[ :, :, np.newaxis ] - \\\n",
    "                                       means[ :, np.newaxis, : ] )**2, axis = 0 ) ).argmin( 1 )\n",
    "    all_classes = np.unique( closest_class )\n",
    "    assert all( [ c in range( len( KEX ) ) for c in all_classes ] )\n",
    "#     print( all_classes )\n",
    "    means_prev = means.copy()\n",
    "    for c in all_classes:\n",
    "      means[ :, c ] = np.mean( proj_data_red_arr[ :, closest_class == c ], axis = 1 )\n",
    "\n",
    "  # Get variance\n",
    "  closest_class = np.fabs( np.sum( ( proj_data_red_arr[ :, :, np.newaxis ] - \\\n",
    "                                     means[ :, np.newaxis, : ] )**2, axis = 0 ) ).argmin( 1 )\n",
    "  all_classes = np.unique( closest_class )\n",
    "  assert all( [ c in range( len( KEX ) ) for c in all_classes ] )\n",
    "  old_var = var.copy()\n",
    "  for c in all_classes:\n",
    "    var[ c ] = np.sqrt(\n",
    "      np.sum( ( np.std( proj_data_red_arr[ :, closest_class == c ], axis = 1 )**2 )**2, axis = 0 ) )\n",
    "\n",
    "  # Get closest to ground truth\n",
    "  # TODO: \n",
    "\n",
    "  if ( len( all_classes ) == len( KEX ) ):\n",
    "  #   print( var )\n",
    "    if np.sum( var ) < np.sum( old_var ):\n",
    "      num_replace += 1\n",
    "      final_all_classes = all_classes.copy()\n",
    "      final_means = means.copy()"
   ]
  },
  {
   "cell_type": "code",
   "execution_count": null,
   "metadata": {},
   "outputs": [],
   "source": [
    "assert ( len( final_all_classes ) == len( KEX ) )"
   ]
  },
  {
   "cell_type": "code",
   "execution_count": null,
   "metadata": {},
   "outputs": [],
   "source": [
    "num_replace, var, old_var"
   ]
  },
  {
   "cell_type": "code",
   "execution_count": null,
   "metadata": {},
   "outputs": [],
   "source": [
    "means_prev, means, final_means"
   ]
  },
  {
   "cell_type": "code",
   "execution_count": null,
   "metadata": {},
   "outputs": [],
   "source": [
    "fig, ax = plt.subplots( 1, 1, figsize = ( 16, 10,) )\n",
    "\n",
    "closest_class = np.fabs( np.sum( ( proj_data_red_arr[ :, :, np.newaxis ] - \\\n",
    "                                   final_means[ :, np.newaxis, : ] )**2, axis = 0 ) ).argmin( 1 )\n",
    "all_classes = np.unique( closest_class )\n",
    "assert all( [ c in range( len( KEX ) ) for c in all_classes ] )\n",
    "for c in [ 1, 0, 2, 3, 4 ]:\n",
    "  if c == 0:\n",
    "    label = KEX[1]\n",
    "  elif c == 1:\n",
    "    label = KEX[0]\n",
    "  else:\n",
    "    label = KEX[c]\n",
    "  ax.scatter( proj_data_red_arr[ 0, closest_class == c ],\n",
    "              proj_data_red_arr[ 1, closest_class == c ], label = label )\n",
    "\n",
    "ax.set_title( 'K-Means Cluster Plot (post-PCA to 2 Dimensions)' )\n",
    "ax.set_xlabel( 'Principal Component 1' )\n",
    "ax.set_ylabel( 'Principal Component 2' )\n",
    "ax.legend()\n",
    "\n",
    "fig.tight_layout()\n",
    "\n",
    "fig.savefig( '../figures/k-means_cluster-plot_ladder.png' )"
   ]
  }
 ],
 "metadata": {
  "kernelspec": {
   "display_name": "Python 3",
   "language": "python",
   "name": "python3"
  },
  "language_info": {
   "codemirror_mode": {
    "name": "ipython",
    "version": 3
   },
   "file_extension": ".py",
   "mimetype": "text/x-python",
   "name": "python",
   "nbconvert_exporter": "python",
   "pygments_lexer": "ipython3",
   "version": "3.7.9"
  }
 },
 "nbformat": 4,
 "nbformat_minor": 4
}
